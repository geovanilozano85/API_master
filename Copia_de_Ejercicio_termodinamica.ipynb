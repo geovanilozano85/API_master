{
  "nbformat": 4,
  "nbformat_minor": 0,
  "metadata": {
    "colab": {
      "provenance": [],
      "gpuType": "T4",
      "authorship_tag": "ABX9TyNwUUwF0frh1Uxh0Q8DqiAP",
      "include_colab_link": true
    },
    "kernelspec": {
      "name": "python3",
      "display_name": "Python 3"
    },
    "language_info": {
      "name": "python"
    },
    "accelerator": "GPU"
  },
  "cells": [
    {
      "cell_type": "markdown",
      "metadata": {
        "id": "view-in-github",
        "colab_type": "text"
      },
      "source": [
        "<a href=\"https://colab.research.google.com/github/geovanilozano85/API_master/blob/main/Copia_de_Ejercicio_termodinamica.ipynb\" target=\"_parent\"><img src=\"https://colab.research.google.com/assets/colab-badge.svg\" alt=\"Open In Colab\"/></a>"
      ]
    },
    {
      "cell_type": "code",
      "execution_count": null,
      "metadata": {
        "colab": {
          "base_uri": "https://localhost:8080/"
        },
        "id": "iTg2SSSu1-kS",
        "outputId": "b0f8a827-5f16-421c-d3bb-c251353d5fb0"
      },
      "outputs": [
        {
          "output_type": "stream",
          "name": "stdout",
          "text": [
            "La temperatura final es: 1789.1018020056817 K\n"
          ]
        }
      ],
      "source": [
        "import numpy as np\n",
        "\n",
        "# Definimos las constantes y las variables iniciales\n",
        "R = 8.314 # J/mol*K\n",
        "A = 3.578\n",
        "B = 3.020 * 10**-3\n",
        "C = 0\n",
        "D = -0.186 * 10**5\n",
        "delta_H = 37215.41 # J/mol\n",
        "\n",
        "# Temperatura inicial en Kelvin\n",
        "T0 = 533.15 # K\n",
        "\n",
        "def capacidad_calorifica_promedio(T, T0):\n",
        "    \"\"\"\n",
        "    Esta función calcula la capacidad calorífica promedio para un rango de temperaturas\n",
        "    \"\"\"\n",
        "    return R * (A + B/2 * (T/T0 + T0/T) - C/3 * (T/T0)**2 * ((T/T0)**2 + 1) + D/T/T0)\n",
        "\n",
        "# Valor inicial de la temperatura (puede ser un valor estimado que sea mayor que T0)\n",
        "T_supuesta = T0 + 10\n",
        "\n",
        "# Iniciamos el proceso iterativo\n",
        "diferencia = 1\n",
        "tolerancia = 1e-6  # Define cuán pequeña debe ser la diferencia para detener el ciclo\n",
        "\n",
        "while diferencia > tolerancia:\n",
        "    Cp_promedio = capacidad_calorifica_promedio(T_supuesta, T0)\n",
        "    T_calculada = delta_H / Cp_promedio + T0\n",
        "    diferencia = abs(T_calculada - T_supuesta)\n",
        "    T_supuesta = T_calculada\n",
        "\n",
        "print(f\"La temperatura final es: {T_calculada} K\")\n",
        "\n"
      ]
    }
  ]
}